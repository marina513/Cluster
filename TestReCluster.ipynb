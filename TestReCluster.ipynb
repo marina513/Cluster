{
 "cells": [
  {
   "cell_type": "code",
   "execution_count": 19,
   "metadata": {},
   "outputs": [
    {
     "name": "stdout",
     "output_type": "stream",
     "text": [
      "The autoreload extension is already loaded. To reload it, use:\n",
      "  %reload_ext autoreload\n",
      "iter :  0\n",
      "iter :  0\n",
      "iter :  0\n",
      "iter :  1\n"
     ]
    }
   ],
   "source": [
    "from Main import Cluster\n",
    "\n",
    "\n",
    "Cluster(Main_dir=\"/home/marina/Desktop/Cluster/ImagesTest/\", \n",
    "        use_CLIP=True, use_SimCLR=True, merge=False,\n",
    "        OutDir=\"/home/marina/Desktop/Cluster/Outs/\")"
   ]
  }
 ],
 "metadata": {
  "kernelspec": {
   "display_name": "VENV_Cluster",
   "language": "python",
   "name": "python3"
  },
  "language_info": {
   "codemirror_mode": {
    "name": "ipython",
    "version": 3
   },
   "file_extension": ".py",
   "mimetype": "text/x-python",
   "name": "python",
   "nbconvert_exporter": "python",
   "pygments_lexer": "ipython3",
   "version": "3.8.10"
  },
  "orig_nbformat": 4,
  "vscode": {
   "interpreter": {
    "hash": "4ecac3acbda471f4b72fd7de5c519c69f936c02e261b5ec23cf9f78da6a2d7e2"
   }
  }
 },
 "nbformat": 4,
 "nbformat_minor": 2
}
